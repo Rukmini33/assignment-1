{
 "cells": [
  {
   "cell_type": "code",
   "execution_count": 1,
   "id": "a58d61d5-ca0e-4b30-adae-dc77b5fa34cc",
   "metadata": {},
   "outputs": [],
   "source": [
    "d = {}"
   ]
  },
  {
   "cell_type": "code",
   "execution_count": 2,
   "id": "34a184df-a873-4cb7-bbcc-6ef050e4bae9",
   "metadata": {},
   "outputs": [
    {
     "data": {
      "text/plain": [
       "dict"
      ]
     },
     "execution_count": 2,
     "metadata": {},
     "output_type": "execute_result"
    }
   ],
   "source": [
    "type(d)"
   ]
  },
  {
   "cell_type": "code",
   "execution_count": 4,
   "id": "3e7c0128-a47d-482a-b3a3-521d0b4d070e",
   "metadata": {},
   "outputs": [],
   "source": [
    "d1 = {\"key\" : \"sudh\"}"
   ]
  },
  {
   "cell_type": "code",
   "execution_count": 5,
   "id": "85a2a9d5-7012-4b44-a532-cb6e31d1a485",
   "metadata": {},
   "outputs": [
    {
     "data": {
      "text/plain": [
       "{'key': 'sudh'}"
      ]
     },
     "execution_count": 5,
     "metadata": {},
     "output_type": "execute_result"
    }
   ],
   "source": [
    "d1"
   ]
  },
  {
   "cell_type": "code",
   "execution_count": 8,
   "id": "fbe4045d-8ab1-4c89-9335-8fee36e0518b",
   "metadata": {},
   "outputs": [],
   "source": [
    "d2 = {'name':'sudhanshu', 'email': '3456@gmail.com'}"
   ]
  },
  {
   "cell_type": "code",
   "execution_count": 9,
   "id": "6bd1760a-e942-4345-b5ed-60472bd87a4e",
   "metadata": {},
   "outputs": [
    {
     "data": {
      "text/plain": [
       "{'name': 'sudhanshu', 'email': '3456@gmail.com'}"
      ]
     },
     "execution_count": 9,
     "metadata": {},
     "output_type": "execute_result"
    }
   ],
   "source": [
    "d2"
   ]
  },
  {
   "cell_type": "code",
   "execution_count": 10,
   "id": "93f62c17-2f55-4c3e-8cba-7a2a28b9da8d",
   "metadata": {},
   "outputs": [],
   "source": [
    "d3 = {'234' : 'sudh'}"
   ]
  },
  {
   "cell_type": "code",
   "execution_count": 46,
   "id": "044b7f93-0936-4892-9a3c-6ac350264e28",
   "metadata": {},
   "outputs": [
    {
     "ename": "SyntaxError",
     "evalue": "closing parenthesis ']' does not match opening parenthesis '{' (91316020.py, line 1)",
     "output_type": "error",
     "traceback": [
      "\u001b[0;36m  Cell \u001b[0;32mIn[46], line 1\u001b[0;36m\u001b[0m\n\u001b[0;31m    s3= {234, 234, 546, \"sudh\", 45+45j, 34.465, []2,3,4]}\u001b[0m\n\u001b[0m                                                       ^\u001b[0m\n\u001b[0;31mSyntaxError\u001b[0m\u001b[0;31m:\u001b[0m closing parenthesis ']' does not match opening parenthesis '{'\n"
     ]
    }
   ],
   "source": [
    "s3= {234, 234, 546, \"sudh\", 45+45j, 34.465, []2,3,4]}"
   ]
  },
  {
   "cell_type": "code",
   "execution_count": 11,
   "id": "5c7ad95e-4908-4e01-b013-f8028e6b8e6c",
   "metadata": {},
   "outputs": [
    {
     "data": {
      "text/plain": [
       "{'234': 'sudh'}"
      ]
     },
     "execution_count": 11,
     "metadata": {},
     "output_type": "execute_result"
    }
   ],
   "source": [
    "d3"
   ]
  },
  {
   "cell_type": "code",
   "execution_count": 12,
   "id": "439fe4b5-3e49-4dd4-9adb-73c9215d4bb2",
   "metadata": {},
   "outputs": [
    {
     "ename": "SyntaxError",
     "evalue": "invalid syntax (3884180238.py, line 1)",
     "output_type": "error",
     "traceback": [
      "\u001b[0;36m  Cell \u001b[0;32mIn[12], line 1\u001b[0;36m\u001b[0m\n\u001b[0;31m    d3  {'234': '@sudh'}\u001b[0m\n\u001b[0m        ^\u001b[0m\n\u001b[0;31mSyntaxError\u001b[0m\u001b[0;31m:\u001b[0m invalid syntax\n"
     ]
    }
   ],
   "source": [
    "d3  {'234': '@sudh'}"
   ]
  },
  {
   "cell_type": "code",
   "execution_count": 16,
   "id": "278541c5-d26d-4d94-a963-28917190e978",
   "metadata": {},
   "outputs": [],
   "source": [
    "#special character at starting cannot execute, in between speacial character is possible"
   ]
  },
  {
   "cell_type": "code",
   "execution_count": 14,
   "id": "e47c019d-63a3-486b-89a6-cd4377b74d43",
   "metadata": {},
   "outputs": [
    {
     "data": {
      "text/plain": [
       "{'234': 'sudh'}"
      ]
     },
     "execution_count": 14,
     "metadata": {},
     "output_type": "execute_result"
    }
   ],
   "source": [
    "d3"
   ]
  },
  {
   "cell_type": "code",
   "execution_count": null,
   "id": "bee09a82-feef-4115-b40d-9b6144bd982b",
   "metadata": {},
   "outputs": [],
   "source": []
  },
  {
   "cell_type": "code",
   "execution_count": 46,
   "id": "589cd02f-401a-48e8-ba74-d666ab177a5a",
   "metadata": {},
   "outputs": [
    {
     "ename": "SyntaxError",
     "evalue": "closing parenthesis ']' does not match opening parenthesis '{' (91316020.py, line 1)",
     "output_type": "error",
     "traceback": [
      "\u001b[0;36m  Cell \u001b[0;32mIn[46], line 1\u001b[0;36m\u001b[0m\n\u001b[0;31m    s3= {234, 234, 546, \"sudh\", 45+45j, 34.465, []2,3,4]}\u001b[0m\n\u001b[0m                                                       ^\u001b[0m\n\u001b[0;31mSyntaxError\u001b[0m\u001b[0;31m:\u001b[0m closing parenthesis ']' does not match opening parenthesis '{'\n"
     ]
    }
   ],
   "source": [
    "s3= {234, 234, 546, \"sudh\", 45+45j, 34.465, []2,3,4]}"
   ]
  },
  {
   "cell_type": "code",
   "execution_count": null,
   "id": "fb6cc8d2-bb90-4b2d-ab8d-bee917c180a0",
   "metadata": {},
   "outputs": [],
   "source": []
  },
  {
   "cell_type": "code",
   "execution_count": 12,
   "id": "7eff66ac-a666-4304-911f-8d8e82bee60c",
   "metadata": {},
   "outputs": [
    {
     "ename": "SyntaxError",
     "evalue": "invalid syntax (3884180238.py, line 1)",
     "output_type": "error",
     "traceback": [
      "\u001b[0;36m  Cell \u001b[0;32mIn[12], line 1\u001b[0;36m\u001b[0m\n\u001b[0;31m    d3  {'234': '@sudh'}\u001b[0m\n\u001b[0m        ^\u001b[0m\n\u001b[0;31mSyntaxError\u001b[0m\u001b[0;31m:\u001b[0m invalid syntax\n"
     ]
    }
   ],
   "source": [
    "d3  {'234': '@sudh'}"
   ]
  },
  {
   "cell_type": "code",
   "execution_count": null,
   "id": "61b493f4-5938-4c2d-8d9e-c7c4a6405058",
   "metadata": {},
   "outputs": [],
   "source": []
  },
  {
   "cell_type": "code",
   "execution_count": 28,
   "id": "2ff2e760-0237-406c-9461-266c5bf4a123",
   "metadata": {},
   "outputs": [],
   "source": [
    "d3  = {'234': '@sudh', '2394' : True}"
   ]
  },
  {
   "cell_type": "code",
   "execution_count": 29,
   "id": "5b84323c-eede-4e05-8443-14b07ff36d10",
   "metadata": {},
   "outputs": [
    {
     "data": {
      "text/plain": [
       "{'234': '@sudh', '2394': True}"
      ]
     },
     "execution_count": 29,
     "metadata": {},
     "output_type": "execute_result"
    }
   ],
   "source": [
    "d3"
   ]
  },
  {
   "cell_type": "code",
   "execution_count": 23,
   "id": "c950a86f-a0b0-4633-bad1-9d08a647efa1",
   "metadata": {},
   "outputs": [
    {
     "data": {
      "text/plain": [
       "'@sudh'"
      ]
     },
     "execution_count": 23,
     "metadata": {},
     "output_type": "execute_result"
    }
   ],
   "source": [
    "d3 ['234']"
   ]
  },
  {
   "cell_type": "code",
   "execution_count": 30,
   "id": "12139b12-b8c2-4195-82e5-3d53b51bc6de",
   "metadata": {},
   "outputs": [
    {
     "ename": "KeyError",
     "evalue": "True",
     "output_type": "error",
     "traceback": [
      "\u001b[0;31m---------------------------------------------------------------------------\u001b[0m",
      "\u001b[0;31mKeyError\u001b[0m                                  Traceback (most recent call last)",
      "Cell \u001b[0;32mIn[30], line 1\u001b[0m\n\u001b[0;32m----> 1\u001b[0m \u001b[43md3\u001b[49m\u001b[43m[\u001b[49m\u001b[38;5;28;43;01mTrue\u001b[39;49;00m\u001b[43m]\u001b[49m\n",
      "\u001b[0;31mKeyError\u001b[0m: True"
     ]
    }
   ],
   "source": [
    "d3[True]"
   ]
  },
  {
   "cell_type": "code",
   "execution_count": 31,
   "id": "224dc5ae-5152-4743-8816-128b73599391",
   "metadata": {},
   "outputs": [
    {
     "ename": "KeyError",
     "evalue": "True",
     "output_type": "error",
     "traceback": [
      "\u001b[0;31m---------------------------------------------------------------------------\u001b[0m",
      "\u001b[0;31mKeyError\u001b[0m                                  Traceback (most recent call last)",
      "Cell \u001b[0;32mIn[31], line 1\u001b[0m\n\u001b[0;32m----> 1\u001b[0m \u001b[43md3\u001b[49m\u001b[43m \u001b[49m\u001b[43m[\u001b[49m\u001b[38;5;28;43;01mTrue\u001b[39;49;00m\u001b[43m]\u001b[49m\n",
      "\u001b[0;31mKeyError\u001b[0m: True"
     ]
    }
   ],
   "source": [
    "d3 [True]"
   ]
  },
  {
   "cell_type": "code",
   "execution_count": 32,
   "id": "f262288a-d295-4b75-9920-d01656c25ca9",
   "metadata": {},
   "outputs": [],
   "source": [
    "d4 = {'name':'sudh', 'mail': '123@gmail.com', \"name\": \"sudhanshu\",}"
   ]
  },
  {
   "cell_type": "code",
   "execution_count": 33,
   "id": "f4c2fd07-0b73-40ee-b6aa-aa453e8d7de7",
   "metadata": {},
   "outputs": [
    {
     "data": {
      "text/plain": [
       "{'name': 'sudhanshu', 'mail': '123@gmail.com'}"
      ]
     },
     "execution_count": 33,
     "metadata": {},
     "output_type": "execute_result"
    }
   ],
   "source": [
    "d4"
   ]
  },
  {
   "cell_type": "code",
   "execution_count": 34,
   "id": "5b326cd2-f6ce-4fe4-9e33-b48db6cf3f3e",
   "metadata": {},
   "outputs": [
    {
     "data": {
      "text/plain": [
       "'sudhanshu'"
      ]
     },
     "execution_count": 34,
     "metadata": {},
     "output_type": "execute_result"
    }
   ],
   "source": [
    "d4 ['name']"
   ]
  },
  {
   "cell_type": "code",
   "execution_count": 36,
   "id": "57f9feb3-d630-47e2-abf9-636d54cb0d3f",
   "metadata": {},
   "outputs": [],
   "source": [
    "d5 = {'company':'pwskills', 'course':['web dev', 'data science','java with dsa system design']}"
   ]
  },
  {
   "cell_type": "code",
   "execution_count": 37,
   "id": "f7cf22d4-a686-4b69-90cd-58d6c8765e5a",
   "metadata": {},
   "outputs": [
    {
     "data": {
      "text/plain": [
       "{'company': 'pwskills',\n",
       " 'course': ['web dev', 'data science', 'java with dsa system design']}"
      ]
     },
     "execution_count": 37,
     "metadata": {},
     "output_type": "execute_result"
    }
   ],
   "source": [
    "d5"
   ]
  },
  {
   "cell_type": "code",
   "execution_count": 38,
   "id": "581ed673-2c1c-4fe9-a355-9c521cfe9a5c",
   "metadata": {},
   "outputs": [
    {
     "data": {
      "text/plain": [
       "['web dev', 'data science', 'java with dsa system design']"
      ]
     },
     "execution_count": 38,
     "metadata": {},
     "output_type": "execute_result"
    }
   ],
   "source": [
    "d5['course']"
   ]
  },
  {
   "cell_type": "code",
   "execution_count": 40,
   "id": "a14aef76-975e-4b20-9b8a-03fb363a9954",
   "metadata": {},
   "outputs": [
    {
     "data": {
      "text/plain": [
       "'java with dsa system design'"
      ]
     },
     "execution_count": 40,
     "metadata": {},
     "output_type": "execute_result"
    }
   ],
   "source": [
    "d5['course'][2]"
   ]
  },
  {
   "cell_type": "code",
   "execution_count": 50,
   "id": "92f78461-5388-4f9f-a138-bd5be73f9dbd",
   "metadata": {},
   "outputs": [],
   "source": [
    "d6 = {'number': [2,34,56,78] , 'assignment': {1,2,3,4,5,6}, 'launch_date' :{28,14,8}, 'class_time': {'web dev' :8, 'data science masters' : 9}}"
   ]
  },
  {
   "cell_type": "code",
   "execution_count": 51,
   "id": "340ffc64-3ca1-43c2-8147-d9cacb85afd3",
   "metadata": {},
   "outputs": [
    {
     "data": {
      "text/plain": [
       "{'number': [2, 34, 56, 78],\n",
       " 'assignment': {1, 2, 3, 4, 5, 6},\n",
       " 'launch_date': {8, 14, 28},\n",
       " 'class_time': {'web dev': 8, 'data science masters': 9}}"
      ]
     },
     "execution_count": 51,
     "metadata": {},
     "output_type": "execute_result"
    }
   ],
   "source": [
    "d6"
   ]
  },
  {
   "cell_type": "code",
   "execution_count": 55,
   "id": "84959b4d-7b09-4838-98c1-ec6b5bf6c04f",
   "metadata": {},
   "outputs": [
    {
     "data": {
      "text/plain": [
       "8"
      ]
     },
     "execution_count": 55,
     "metadata": {},
     "output_type": "execute_result"
    }
   ],
   "source": [
    "d6['class_time']['web dev']"
   ]
  },
  {
   "cell_type": "code",
   "execution_count": null,
   "id": "c9280512-5b00-4444-8843-998a2c27b8c4",
   "metadata": {},
   "outputs": [],
   "source": [
    "d6 = "
   ]
  },
  {
   "cell_type": "code",
   "execution_count": 51,
   "id": "c386811e-bc2c-455d-a97d-402c691c27a4",
   "metadata": {},
   "outputs": [
    {
     "data": {
      "text/plain": [
       "{'number': [2, 34, 56, 78],\n",
       " 'assignment': {1, 2, 3, 4, 5, 6},\n",
       " 'launch_date': {8, 14, 28},\n",
       " 'class_time': {'web dev': 8, 'data science masters': 9}}"
      ]
     },
     "execution_count": 51,
     "metadata": {},
     "output_type": "execute_result"
    }
   ],
   "source": [
    "d6"
   ]
  },
  {
   "cell_type": "code",
   "execution_count": 1,
   "id": "b2a6855e-cd60-4b86-ae82-2dbccd6c3517",
   "metadata": {},
   "outputs": [
    {
     "ename": "NameError",
     "evalue": "name 'd6' is not defined",
     "output_type": "error",
     "traceback": [
      "\u001b[0;31m---------------------------------------------------------------------------\u001b[0m",
      "\u001b[0;31mNameError\u001b[0m                                 Traceback (most recent call last)",
      "Cell \u001b[0;32mIn[1], line 1\u001b[0m\n\u001b[0;32m----> 1\u001b[0m \u001b[43md6\u001b[49m\n",
      "\u001b[0;31mNameError\u001b[0m: name 'd6' is not defined"
     ]
    }
   ],
   "source": [
    "d6 = "
   ]
  },
  {
   "cell_type": "code",
   "execution_count": null,
   "id": "7ada09c9-69f2-4cf2-80df-12a9a59547bc",
   "metadata": {},
   "outputs": [],
   "source": [
    "d6 = "
   ]
  },
  {
   "cell_type": "code",
   "execution_count": null,
   "id": "49858bcb-25ef-4aff-a467-d0dde7311899",
   "metadata": {},
   "outputs": [],
   "source": []
  },
  {
   "cell_type": "code",
   "execution_count": 1,
   "id": "2edde0d2-a652-49c9-b6c8-b07fed64c46f",
   "metadata": {},
   "outputs": [
    {
     "ename": "NameError",
     "evalue": "name 'd6' is not defined",
     "output_type": "error",
     "traceback": [
      "\u001b[0;31m---------------------------------------------------------------------------\u001b[0m",
      "\u001b[0;31mNameError\u001b[0m                                 Traceback (most recent call last)",
      "Cell \u001b[0;32mIn[1], line 1\u001b[0m\n\u001b[0;32m----> 1\u001b[0m \u001b[43md6\u001b[49m\n",
      "\u001b[0;31mNameError\u001b[0m: name 'd6' is not defined"
     ]
    }
   ],
   "source": [
    "d6 = "
   ]
  },
  {
   "cell_type": "code",
   "execution_count": 5,
   "id": "1d9c5cef-ada0-4125-a39c-f82c7875c2fe",
   "metadata": {},
   "outputs": [],
   "source": [
    "d6 = {'number' : [2, 34, 3, 34],'assignment' : [1, 2, 3, 4, 5, 6], 'launch_date' : [12, 14, 28], 'class_time' : {'web_dev' : 8, 'Data Science Masters' : 8, 'java with DSA and system design': 7}}\n",
    "        "
   ]
  },
  {
   "cell_type": "code",
   "execution_count": 6,
   "id": "3f47d1bd-93d5-4e94-aea1-82b02b3dad5c",
   "metadata": {},
   "outputs": [
    {
     "data": {
      "text/plain": [
       "{'number': [2, 34, 3, 34],\n",
       " 'assignment': [1, 2, 3, 4, 5, 6],\n",
       " 'launch_date': [12, 14, 28],\n",
       " 'class_time': {'web_dev': 8,\n",
       "  'Data Science Masters': 8,\n",
       "  'java with DSA and system design': 7}}"
      ]
     },
     "execution_count": 6,
     "metadata": {},
     "output_type": "execute_result"
    }
   ],
   "source": [
    "d6"
   ]
  },
  {
   "cell_type": "code",
   "execution_count": 13,
   "id": "75b4c25e-0f92-49a9-8080-96927b58077e",
   "metadata": {},
   "outputs": [
    {
     "data": {
      "text/plain": [
       "7"
      ]
     },
     "execution_count": 13,
     "metadata": {},
     "output_type": "execute_result"
    }
   ],
   "source": [
    "d6 ['class_time']['java with DSA and system design']"
   ]
  },
  {
   "cell_type": "code",
   "execution_count": 15,
   "id": "81d8dd03-3657-4037-8b72-1ecb1803342f",
   "metadata": {},
   "outputs": [
    {
     "data": {
      "text/plain": [
       "8"
      ]
     },
     "execution_count": 15,
     "metadata": {},
     "output_type": "execute_result"
    }
   ],
   "source": [
    "d6 ['class_time']['web_dev']"
   ]
  },
  {
   "cell_type": "code",
   "execution_count": 18,
   "id": "2366655a-60b7-4155-9d48-fe77867eb83b",
   "metadata": {},
   "outputs": [],
   "source": [
    "d6 ['mentor'] = [ \"sudhanshu\", \"krish\", \"anurag\", \"hayder\" ]"
   ]
  },
  {
   "cell_type": "code",
   "execution_count": 19,
   "id": "4bb56590-d6c9-4510-9622-557e59e8c20f",
   "metadata": {},
   "outputs": [
    {
     "data": {
      "text/plain": [
       "{'number': [2, 34, 3, 34],\n",
       " 'assignment': [1, 2, 3, 4, 5, 6],\n",
       " 'launch_date': [12, 14, 28],\n",
       " 'class_time': {'web_dev': 8,\n",
       "  'Data Science Masters': 8,\n",
       "  'java with DSA and system design': 7},\n",
       " 'mentor': ['sudhanshu', 'krish', 'anurag', 'hayder']}"
      ]
     },
     "execution_count": 19,
     "metadata": {},
     "output_type": "execute_result"
    }
   ],
   "source": [
    "d6"
   ]
  },
  {
   "cell_type": "code",
   "execution_count": 20,
   "id": "cd016a39-e1f4-4381-83a0-16293d449ac3",
   "metadata": {},
   "outputs": [],
   "source": [
    "del d6['number']"
   ]
  },
  {
   "cell_type": "code",
   "execution_count": 21,
   "id": "4a8a1f8c-c98b-4044-b9e3-498c18acd4f8",
   "metadata": {},
   "outputs": [
    {
     "data": {
      "text/plain": [
       "{'assignment': [1, 2, 3, 4, 5, 6],\n",
       " 'launch_date': [12, 14, 28],\n",
       " 'class_time': {'web_dev': 8,\n",
       "  'Data Science Masters': 8,\n",
       "  'java with DSA and system design': 7},\n",
       " 'mentor': ['sudhanshu', 'krish', 'anurag', 'hayder']}"
      ]
     },
     "execution_count": 21,
     "metadata": {},
     "output_type": "execute_result"
    }
   ],
   "source": [
    "d6"
   ]
  },
  {
   "cell_type": "code",
   "execution_count": 24,
   "id": "4c8ae8da-be3b-4e0e-920d-2b24653966da",
   "metadata": {},
   "outputs": [
    {
     "data": {
      "text/plain": [
       "['assignment', 'launch_date', 'class_time', 'mentor']"
      ]
     },
     "execution_count": 24,
     "metadata": {},
     "output_type": "execute_result"
    }
   ],
   "source": [
    "list(d6.keys())"
   ]
  },
  {
   "cell_type": "code",
   "execution_count": 28,
   "id": "c0c706aa-7293-4069-9998-51e354aaa6bd",
   "metadata": {},
   "outputs": [
    {
     "data": {
      "text/plain": [
       "[('assignment', [1, 2, 3, 4, 5, 6]),\n",
       " ('launch_date', [12, 14, 28]),\n",
       " ('class_time',\n",
       "  {'web_dev': 8,\n",
       "   'Data Science Masters': 8,\n",
       "   'java with DSA and system design': 7}),\n",
       " ('mentor', ['sudhanshu', 'krish', 'anurag', 'hayder'])]"
      ]
     },
     "execution_count": 28,
     "metadata": {},
     "output_type": "execute_result"
    }
   ],
   "source": [
    "list(d6.items())"
   ]
  },
  {
   "cell_type": "code",
   "execution_count": 29,
   "id": "2890d0d4-9453-4166-aa83-fc80d0e182fa",
   "metadata": {},
   "outputs": [
    {
     "data": {
      "text/plain": [
       "[1, 2, 3, 4, 5, 6]"
      ]
     },
     "execution_count": 29,
     "metadata": {},
     "output_type": "execute_result"
    }
   ],
   "source": [
    "d6.pop('assignment')"
   ]
  },
  {
   "cell_type": "code",
   "execution_count": 30,
   "id": "67ee116d-bcbf-4b92-9459-8afea73f5bb4",
   "metadata": {},
   "outputs": [
    {
     "data": {
      "text/plain": [
       "{'launch_date': [12, 14, 28],\n",
       " 'class_time': {'web_dev': 8,\n",
       "  'Data Science Masters': 8,\n",
       "  'java with DSA and system design': 7},\n",
       " 'mentor': ['sudhanshu', 'krish', 'anurag', 'hayder']}"
      ]
     },
     "execution_count": 30,
     "metadata": {},
     "output_type": "execute_result"
    }
   ],
   "source": [
    "d6"
   ]
  },
  {
   "cell_type": "code",
   "execution_count": 39,
   "id": "36b81e46-9a9f-4045-be31-a8a01e42383f",
   "metadata": {},
   "outputs": [
    {
     "name": "stdout",
     "output_type": "stream",
     "text": [
      "you will be a part of A3 batch\n"
     ]
    }
   ],
   "source": [
    "marks = 10\n",
    "if marks >= 80 :\n",
    "    print (\"you will be a part of A0 batch\")\n",
    "elif marks >= 60 and marks <80:\n",
    "    print (\"you will be a part of A1 batch\")\n",
    "elif marks >=40 and marks <60:\n",
    "    print (\"you will be a part of A2 batch\")\n",
    "else : \n",
    "    print (\"you will be a part of A3 batch\")\n"
   ]
  },
  {
   "cell_type": "code",
   "execution_count": 40,
   "id": "41861562-dc77-42b0-b7c1-f5561cb1b403",
   "metadata": {},
   "outputs": [
    {
     "data": {
      "text/plain": [
       "False"
      ]
     },
     "execution_count": 40,
     "metadata": {},
     "output_type": "execute_result"
    }
   ],
   "source": [
    "10 >= 80"
   ]
  },
  {
   "cell_type": "code",
   "execution_count": 49,
   "id": "3b30fd71-f9f9-4ca5-b7c3-f455e8f60b10",
   "metadata": {},
   "outputs": [
    {
     "name": "stdin",
     "output_type": "stream",
     "text": [
      "enter your marks 45\n"
     ]
    }
   ],
   "source": [
    "marks = int(input(\"enter your marks\"))"
   ]
  },
  {
   "cell_type": "code",
   "execution_count": 50,
   "id": "afe22faa-e301-48e1-b6d7-2dffd40e6049",
   "metadata": {},
   "outputs": [
    {
     "data": {
      "text/plain": [
       "45"
      ]
     },
     "execution_count": 50,
     "metadata": {},
     "output_type": "execute_result"
    }
   ],
   "source": [
    "marks"
   ]
  },
  {
   "cell_type": "code",
   "execution_count": 51,
   "id": "cefef846-ba55-44d8-a73d-e1fc10754b67",
   "metadata": {},
   "outputs": [
    {
     "data": {
      "text/plain": [
       "int"
      ]
     },
     "execution_count": 51,
     "metadata": {},
     "output_type": "execute_result"
    }
   ],
   "source": [
    "type(marks)"
   ]
  },
  {
   "cell_type": "code",
   "execution_count": 52,
   "id": "60ed0863-717d-4846-8f7b-e1be82447d6c",
   "metadata": {},
   "outputs": [
    {
     "name": "stdin",
     "output_type": "stream",
     "text": [
      "enter your marks 45\n"
     ]
    }
   ],
   "source": [
    "marks = float(input(\"enter your marks\"))"
   ]
  },
  {
   "cell_type": "code",
   "execution_count": 53,
   "id": "45cb2a0f-af2f-493e-a949-231a0c3b53fb",
   "metadata": {},
   "outputs": [
    {
     "data": {
      "text/plain": [
       "45.0"
      ]
     },
     "execution_count": 53,
     "metadata": {},
     "output_type": "execute_result"
    }
   ],
   "source": [
    "marks"
   ]
  },
  {
   "cell_type": "code",
   "execution_count": 56,
   "id": "ac893144-b89e-4e96-b832-847be7fd43fa",
   "metadata": {},
   "outputs": [
    {
     "name": "stdin",
     "output_type": "stream",
     "text": [
      "enter price 500\n"
     ]
    },
    {
     "name": "stdout",
     "output_type": "stream",
     "text": [
      "I will purchase\n"
     ]
    }
   ],
   "source": [
    "price = int(input(\"enter price\"))\n",
    "if price > 1000:\n",
    "    print (\"I will not purchase\")\n",
    "else :\n",
    "    print (\"I will purchase\")"
   ]
  },
  {
   "cell_type": "code",
   "execution_count": 57,
   "id": "3413c38c-0cd9-4e51-b0d5-c081b8640a7c",
   "metadata": {},
   "outputs": [
    {
     "data": {
      "text/plain": [
       "500"
      ]
     },
     "execution_count": 57,
     "metadata": {},
     "output_type": "execute_result"
    }
   ],
   "source": [
    "price"
   ]
  },
  {
   "cell_type": "code",
   "execution_count": 58,
   "id": "47accab8-ea1b-4bc6-a9da-73237bd645cf",
   "metadata": {},
   "outputs": [
    {
     "name": "stdin",
     "output_type": "stream",
     "text": [
      "enter price 7000\n"
     ]
    },
    {
     "name": "stdout",
     "output_type": "stream",
     "text": [
      "I will not purchase\n"
     ]
    }
   ],
   "source": [
    "price = int(input(\"enter price\"))\n",
    "if price > 1000:\n",
    "    print (\"I will not purchase\")\n",
    "else :\n",
    "    print (\"I will purchase\")"
   ]
  },
  {
   "cell_type": "code",
   "execution_count": 59,
   "id": "0256755f-b0ab-4c89-831f-42d5a1836b33",
   "metadata": {},
   "outputs": [
    {
     "name": "stdin",
     "output_type": "stream",
     "text": [
      "enter price 3000\n"
     ]
    },
    {
     "name": "stdout",
     "output_type": "stream",
     "text": [
      "I will not purchase\n"
     ]
    }
   ],
   "source": [
    "price = int(input(\"enter price\"))\n",
    "if price > 1000:\n",
    "    print (\"I will not purchase\")\n",
    "if price > 5000:\n",
    "    print (\"this is too much\")\n",
    "elif price < 2000:\n",
    "    print (\"its ok\")    "
   ]
  },
  {
   "cell_type": "code",
   "execution_count": 60,
   "id": "a19de225-afdc-4a70-82ae-f752b8763a47",
   "metadata": {},
   "outputs": [
    {
     "data": {
      "text/plain": [
       "3000"
      ]
     },
     "execution_count": 60,
     "metadata": {},
     "output_type": "execute_result"
    }
   ],
   "source": [
    "price"
   ]
  },
  {
   "cell_type": "code",
   "execution_count": 61,
   "id": "7956720a-def8-46dd-a72e-1d73a04077f0",
   "metadata": {},
   "outputs": [],
   "source": [
    "l = [1,2,3,4,5,6,7,8]"
   ]
  },
  {
   "cell_type": "code",
   "execution_count": 63,
   "id": "dcb770a6-3705-4fe7-9d03-355edf66ae21",
   "metadata": {},
   "outputs": [
    {
     "data": {
      "text/plain": [
       "[1, 2, 3, 4, 5, 6, 7, 8]"
      ]
     },
     "execution_count": 63,
     "metadata": {},
     "output_type": "execute_result"
    }
   ],
   "source": [
    "l"
   ]
  },
  {
   "cell_type": "code",
   "execution_count": 65,
   "id": "a90af2ea-7b73-41ee-aef9-1536175128fd",
   "metadata": {},
   "outputs": [
    {
     "data": {
      "text/plain": [
       "2"
      ]
     },
     "execution_count": 65,
     "metadata": {},
     "output_type": "execute_result"
    }
   ],
   "source": [
    "l[0] +1"
   ]
  },
  {
   "cell_type": "code",
   "execution_count": 68,
   "id": "4db10252-9867-40b2-b857-a359b79e4004",
   "metadata": {},
   "outputs": [],
   "source": [
    "l1= []"
   ]
  },
  {
   "cell_type": "code",
   "execution_count": 69,
   "id": "960a2f84-9743-4cce-a3ed-ae04841a5911",
   "metadata": {},
   "outputs": [],
   "source": [
    "l1.append(l[0] + 1)"
   ]
  },
  {
   "cell_type": "code",
   "execution_count": 70,
   "id": "6ee247e9-6071-4ecc-aea3-7aca64ff0037",
   "metadata": {},
   "outputs": [
    {
     "data": {
      "text/plain": [
       "[2]"
      ]
     },
     "execution_count": 70,
     "metadata": {},
     "output_type": "execute_result"
    }
   ],
   "source": [
    "l1"
   ]
  },
  {
   "cell_type": "code",
   "execution_count": 71,
   "id": "19f622ed-020c-4061-bf3c-5bdcc69dceb7",
   "metadata": {},
   "outputs": [],
   "source": [
    "l = [1, 2, 3, 4, 5, 6, 7, 8]"
   ]
  },
  {
   "cell_type": "code",
   "execution_count": 72,
   "id": "046f2647-5340-4346-a604-6ee2774f3ea9",
   "metadata": {},
   "outputs": [
    {
     "data": {
      "text/plain": [
       "[1, 2, 3, 4, 5, 6, 7, 8]"
      ]
     },
     "execution_count": 72,
     "metadata": {},
     "output_type": "execute_result"
    }
   ],
   "source": [
    "l"
   ]
  },
  {
   "cell_type": "code",
   "execution_count": 74,
   "id": "a2bb2012-9a0f-4351-86bb-5ef96700b740",
   "metadata": {},
   "outputs": [
    {
     "name": "stdout",
     "output_type": "stream",
     "text": [
      "1\n",
      "2\n",
      "3\n",
      "4\n",
      "5\n",
      "6\n",
      "7\n",
      "8\n"
     ]
    }
   ],
   "source": [
    "for i in l:\n",
    "    print (i)"
   ]
  },
  {
   "cell_type": "code",
   "execution_count": 75,
   "id": "d78e4639-f957-4400-9a5a-2712688894d9",
   "metadata": {},
   "outputs": [
    {
     "name": "stdout",
     "output_type": "stream",
     "text": [
      "2\n",
      "3\n",
      "4\n",
      "5\n",
      "6\n",
      "7\n",
      "8\n",
      "9\n"
     ]
    }
   ],
   "source": [
    "for i in l:\n",
    "    print (i+1)"
   ]
  },
  {
   "cell_type": "code",
   "execution_count": 76,
   "id": "12c2bf85-4e7d-48ee-aad7-dfa355db1875",
   "metadata": {},
   "outputs": [
    {
     "name": "stdout",
     "output_type": "stream",
     "text": [
      "3\n",
      "4\n",
      "5\n",
      "6\n",
      "7\n",
      "8\n",
      "9\n",
      "10\n"
     ]
    }
   ],
   "source": [
    "for i in l:\n",
    "    print (i+2)"
   ]
  },
  {
   "cell_type": "code",
   "execution_count": 77,
   "id": "10654bfb-8609-448c-8fb8-026deb4bdf37",
   "metadata": {},
   "outputs": [
    {
     "name": "stdout",
     "output_type": "stream",
     "text": [
      "4\n",
      "5\n",
      "6\n",
      "7\n",
      "8\n",
      "9\n",
      "10\n",
      "11\n"
     ]
    }
   ],
   "source": [
    "for i in l:\n",
    "    print (i+3)"
   ]
  },
  {
   "cell_type": "code",
   "execution_count": 78,
   "id": "607f6840-9a9b-40c5-b79b-6b86a1a45e1b",
   "metadata": {},
   "outputs": [],
   "source": [
    "l = [\"sudh\", \"kumar\", \"pwskills\", \"course\"]"
   ]
  },
  {
   "cell_type": "code",
   "execution_count": 79,
   "id": "2cecb35d-1bb7-4639-8e6b-2ce6003f9f07",
   "metadata": {},
   "outputs": [
    {
     "data": {
      "text/plain": [
       "['sudh', 'kumar', 'pwskills', 'course']"
      ]
     },
     "execution_count": 79,
     "metadata": {},
     "output_type": "execute_result"
    }
   ],
   "source": [
    "l"
   ]
  },
  {
   "cell_type": "code",
   "execution_count": 80,
   "id": "caa14dbf-4a64-4c5e-bd29-27d9f5d2517e",
   "metadata": {},
   "outputs": [
    {
     "name": "stdout",
     "output_type": "stream",
     "text": [
      "sudh\n",
      "kumar\n",
      "pwskills\n",
      "course\n"
     ]
    }
   ],
   "source": [
    "for i in l :\n",
    "    print (i)"
   ]
  },
  {
   "cell_type": "code",
   "execution_count": 83,
   "id": "84d9a58a-3796-4f2b-8e68-2070b20a35ed",
   "metadata": {},
   "outputs": [
    {
     "name": "stdout",
     "output_type": "stream",
     "text": [
      "SUDH\n",
      "KUMAR\n",
      "PWSKILLS\n",
      "COURSE\n"
     ]
    }
   ],
   "source": [
    "for i in l :\n",
    "    print (i.upper())"
   ]
  },
  {
   "cell_type": "code",
   "execution_count": null,
   "id": "1ed626ba-ab97-48aa-b846-03b1f7d640d5",
   "metadata": {},
   "outputs": [],
   "source": [
    "l1"
   ]
  },
  {
   "cell_type": "code",
   "execution_count": 90,
   "id": "240b7ac0-933d-4fa3-924b-86b0451203cc",
   "metadata": {},
   "outputs": [
    {
     "name": "stdout",
     "output_type": "stream",
     "text": [
      "sudh\n",
      "kumar\n",
      "pwskills\n",
      "course\n"
     ]
    }
   ],
   "source": [
    "l1 = []\n",
    "for i in l :\n",
    "    print (i)\n",
    "    l1.append(i.upper())"
   ]
  },
  {
   "cell_type": "code",
   "execution_count": 91,
   "id": "e5f71be7-5e56-4052-a2ca-39b230e872fe",
   "metadata": {},
   "outputs": [
    {
     "data": {
      "text/plain": [
       "['SUDH', 'KUMAR', 'PWSKILLS', 'COURSE']"
      ]
     },
     "execution_count": 91,
     "metadata": {},
     "output_type": "execute_result"
    }
   ],
   "source": [
    "l1"
   ]
  },
  {
   "cell_type": "code",
   "execution_count": 92,
   "id": "90f07fdb-5a6f-44ed-9192-5f89de729183",
   "metadata": {},
   "outputs": [],
   "source": [
    "l = [1,2,3,4,4,\"sudh\", \"kumar\", 324, 34.456, \"abc\"]"
   ]
  },
  {
   "cell_type": "code",
   "execution_count": 93,
   "id": "34af7b03-ad92-493d-a5d1-9c99d864f011",
   "metadata": {},
   "outputs": [
    {
     "data": {
      "text/plain": [
       "[1, 2, 3, 4, 4, 'sudh', 'kumar', 324, 34.456, 'abc']"
      ]
     },
     "execution_count": 93,
     "metadata": {},
     "output_type": "execute_result"
    }
   ],
   "source": [
    "l"
   ]
  },
  {
   "cell_type": "code",
   "execution_count": 97,
   "id": "81db3fa5-df59-4e05-9810-b3e5f032879f",
   "metadata": {},
   "outputs": [],
   "source": [
    "l1_num = []\n",
    "l2_str = []\n",
    "for i in l :\n",
    "    if type(i) == int or type(i) == float :\n",
    "        l1_num.append(i)\n",
    "else :\n",
    "            l2_str.append(i)"
   ]
  },
  {
   "cell_type": "code",
   "execution_count": 98,
   "id": "874ccfa7-cb10-4d4e-a14d-fbf7ea323ef7",
   "metadata": {},
   "outputs": [
    {
     "data": {
      "text/plain": [
       "[1, 2, 3, 4, 4, 324, 34.456]"
      ]
     },
     "execution_count": 98,
     "metadata": {},
     "output_type": "execute_result"
    }
   ],
   "source": [
    "l1_num"
   ]
  },
  {
   "cell_type": "code",
   "execution_count": 99,
   "id": "ef2bf6a8-1aa3-4e30-b71d-2dc36c3c000e",
   "metadata": {},
   "outputs": [
    {
     "data": {
      "text/plain": [
       "['abc']"
      ]
     },
     "execution_count": 99,
     "metadata": {},
     "output_type": "execute_result"
    }
   ],
   "source": [
    "l2_str"
   ]
  },
  {
   "cell_type": "code",
   "execution_count": null,
   "id": "8650426f-d814-42bb-84c9-36d7d293f758",
   "metadata": {},
   "outputs": [],
   "source": []
  },
  {
   "cell_type": "code",
   "execution_count": null,
   "id": "ba25d682-0ad9-4610-8056-d320e51438e4",
   "metadata": {},
   "outputs": [],
   "source": []
  },
  {
   "cell_type": "code",
   "execution_count": null,
   "id": "2fe4ee06-2e76-4820-9397-a62fcfa09cd3",
   "metadata": {},
   "outputs": [],
   "source": []
  },
  {
   "cell_type": "code",
   "execution_count": null,
   "id": "66174aad-d150-43d5-b931-8c4414ca97c9",
   "metadata": {},
   "outputs": [],
   "source": []
  }
 ],
 "metadata": {
  "kernelspec": {
   "display_name": "Python 3 (ipykernel)",
   "language": "python",
   "name": "python3"
  },
  "language_info": {
   "codemirror_mode": {
    "name": "ipython",
    "version": 3
   },
   "file_extension": ".py",
   "mimetype": "text/x-python",
   "name": "python",
   "nbconvert_exporter": "python",
   "pygments_lexer": "ipython3",
   "version": "3.10.8"
  }
 },
 "nbformat": 4,
 "nbformat_minor": 5
}
